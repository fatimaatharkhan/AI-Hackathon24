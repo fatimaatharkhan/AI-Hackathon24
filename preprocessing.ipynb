{
  "nbformat": 4,
  "nbformat_minor": 0,
  "metadata": {
    "colab": {
      "provenance": [],
      "gpuType": "T4",
      "include_colab_link": true
    },
    "kernelspec": {
      "name": "python3",
      "display_name": "Python 3"
    },
    "language_info": {
      "name": "python"
    },
    "accelerator": "GPU"
  },
  "cells": [
    {
      "cell_type": "markdown",
      "metadata": {
        "id": "view-in-github",
        "colab_type": "text"
      },
      "source": [
        "<a href=\"https://colab.research.google.com/github/fatimaatharkhan/AI-Hackathon24/blob/main/preprocessing.ipynb\" target=\"_parent\"><img src=\"https://colab.research.google.com/assets/colab-badge.svg\" alt=\"Open In Colab\"/></a>"
      ]
    },
    {
      "cell_type": "markdown",
      "source": [
        "Mount the Drive"
      ],
      "metadata": {
        "id": "U5Sc6YHYuwkI"
      }
    },
    {
      "cell_type": "code",
      "source": [
        "from google.colab import drive\n",
        "\n",
        "# Mount Google Drive\n",
        "drive.mount('/content/drive')"
      ],
      "metadata": {
        "colab": {
          "base_uri": "https://localhost:8080/"
        },
        "id": "JNrSofTdu1wO",
        "outputId": "cc79dcd4-8f39-43f1-b433-ed8933f20702"
      },
      "execution_count": null,
      "outputs": [
        {
          "output_type": "stream",
          "name": "stdout",
          "text": [
            "Mounted at /content/drive\n"
          ]
        }
      ]
    },
    {
      "cell_type": "markdown",
      "source": [
        "Import Libraries"
      ],
      "metadata": {
        "id": "VuXDZ1t4vRtM"
      }
    },
    {
      "cell_type": "code",
      "source": [
        "import os\n",
        "import shutil\n",
        "from sklearn.model_selection import train_test_split"
      ],
      "metadata": {
        "id": "e507PeyTvQuT"
      },
      "execution_count": null,
      "outputs": []
    },
    {
      "cell_type": "markdown",
      "source": [
        "Count the number of files in a given folder"
      ],
      "metadata": {
        "id": "9HiKwUJDqt80"
      }
    },
    {
      "cell_type": "code",
      "source": [
        "def count_files_in_folder(folder_path):\n",
        "    \"\"\"Count the number of files in a given folder.\"\"\"\n",
        "    try:\n",
        "        items = os.listdir(folder_path)\n",
        "        files = [item for item in items if os.path.isfile(os.path.join(folder_path, item))]\n",
        "        return len(files)\n",
        "    except FileNotFoundError:\n",
        "        print(f\"Folder not found: {folder_path}\")\n",
        "        return 0"
      ],
      "metadata": {
        "id": "92swz4Joq22k"
      },
      "execution_count": null,
      "outputs": []
    },
    {
      "cell_type": "markdown",
      "source": [
        "Remove unpaired images or labels"
      ],
      "metadata": {
        "id": "L0ivxAQAq4Xs"
      }
    },
    {
      "cell_type": "code",
      "source": [
        "import os\n",
        "\n",
        "def find_and_handle_unpaired_files(image_folder, label_folder):\n",
        "    \"\"\"Remove unpaired images or labels.\"\"\"\n",
        "    # Get the list of image and label files without extensions\n",
        "    image_files = {os.path.splitext(img)[0] for img in os.listdir(image_folder)}\n",
        "    label_files = {os.path.splitext(lbl)[0] for lbl in os.listdir(label_folder)}\n",
        "\n",
        "    # Find unpaired files\n",
        "    images_without_labels = image_files - label_files\n",
        "    labels_without_images = label_files - image_files\n",
        "\n",
        "    # Handle images without labels\n",
        "    for image_name in images_without_labels:\n",
        "        for ext in [\".JPG\", \".jpg\", \".png\", \".jpeg\"]:  # All extensions\n",
        "            image_path = os.path.join(image_folder, image_name + ext)\n",
        "            if os.path.exists(image_path):\n",
        "                os.remove(image_path)  # Delete the unpaired image\n",
        "                print(f\"Deleted unpaired image: {image_path}\")\n",
        "                break\n",
        "\n",
        "    # Handle labels without images\n",
        "    for label_name in labels_without_images:\n",
        "        label_path = os.path.join(label_folder, label_name + \".txt\")  # All txt files\n",
        "        if os.path.exists(label_path):\n",
        "            os.remove(label_path)  # Delete the unpaired label\n",
        "            print(f\"Deleted unpaired label: {label_path}\")\n"
      ],
      "metadata": {
        "id": "luU_9wLYq9Cf"
      },
      "execution_count": null,
      "outputs": []
    },
    {
      "cell_type": "markdown",
      "source": [
        "Split Dataset into training, validation and testing sets"
      ],
      "metadata": {
        "id": "RPo2zqdSq_c8"
      }
    },
    {
      "cell_type": "code",
      "source": [
        "def split_dataset(image_folder, label_folder, output_dirs, train_ratio=0.7, valid_ratio=0.15):\n",
        "    \"\"\"Split dataset into training, validation, and testing.\"\"\"\n",
        "    # Ensure output directories exist\n",
        "    for split in output_dirs.values():\n",
        "        for folder in split.values():\n",
        "            os.makedirs(folder, exist_ok=True)\n",
        "\n",
        "    # Get paired image-label files\n",
        "    image_files = {os.path.splitext(img)[0] for img in os.listdir(image_folder)}\n",
        "    label_files = {os.path.splitext(lbl)[0] for lbl in os.listdir(label_folder)}\n",
        "    paired_files = list(image_files & label_files)\n",
        "\n",
        "    # Split the data\n",
        "    train_files, temp_files = train_test_split(paired_files, test_size=(1 - train_ratio), random_state=42)\n",
        "    valid_files, test_files = train_test_split(temp_files, test_size=valid_ratio / (1 - train_ratio), random_state=42)\n",
        "\n",
        "    # Function to copy files\n",
        "    def copy_files(file_list, src_img_dir, src_label_dir, dest_img_dir, dest_label_dir):\n",
        "        for file_name in file_list:\n",
        "            for ext in [\".JPG\", \".jpg\", \".png\", \".jpeg\"]:  # Adjust for your image extensions\n",
        "                src_image_path = os.path.join(src_img_dir, file_name + ext)\n",
        "                if os.path.exists(src_image_path):\n",
        "                    shutil.copy(src_image_path, dest_img_dir)\n",
        "                    break\n",
        "            label_path = os.path.join(src_label_dir, file_name + \".txt\")\n",
        "            if os.path.exists(label_path):\n",
        "                shutil.copy(label_path, dest_label_dir)\n",
        "\n",
        "    # Copy files to respective directories\n",
        "    copy_files(train_files, image_folder, label_folder, output_dirs[\"train\"][\"img\"], output_dirs[\"train\"][\"labels\"])\n",
        "    copy_files(valid_files, image_folder, label_folder, output_dirs[\"valid\"][\"img\"], output_dirs[\"valid\"][\"labels\"])\n",
        "    copy_files(test_files, image_folder, label_folder, output_dirs[\"test\"][\"img\"], output_dirs[\"test\"][\"labels\"])\n",
        "\n",
        "    print(\"Dataset split completed!\")"
      ],
      "metadata": {
        "id": "S6URn1PLrGOs"
      },
      "execution_count": null,
      "outputs": []
    },
    {
      "cell_type": "markdown",
      "source": [
        "Preprocessing Non Flooded Data"
      ],
      "metadata": {
        "id": "AVtquubkrI9u"
      }
    },
    {
      "cell_type": "code",
      "source": [
        "print(\"\\nProcessing allFloodedData dataset\")\n",
        "\n",
        "base_folder_allFlooded = \"/content/drive/MyDrive/unityData/allFloodedData/finaleval\"\n",
        "image_folder_allFlooded = os.path.join(base_folder_allFlooded, \"images\")\n",
        "label_folder_allFlooded = os.path.join(base_folder_allFlooded, \"labels\")\n",
        "\n",
        "output_dirs_allFlooded = {\n",
        "    \"train\": {\"img\": os.path.join(base_folder_allFlooded, \"train/images\"), \"labels\": os.path.join(base_folder_allFlooded, \"train/labels\")},\n",
        "    \"valid\": {\"img\": os.path.join(base_folder_allFlooded, \"valid/images\"), \"labels\": os.path.join(base_folder_allFlooded, \"valid/labels\")},\n",
        "    \"test\": {\"img\": os.path.join(base_folder_allFlooded, \"test/images\"), \"labels\": os.path.join(base_folder_allFlooded, \"test/labels\")},\n",
        "}\n",
        "\n",
        "# Count files\n",
        "print(f\"Number of images: {count_files_in_folder(image_folder_allFlooded)}\")\n",
        "print(f\"Number of labels: {count_files_in_folder(label_folder_allFlooded)}\")\n",
        "\n",
        "# Handle unpaired files\n",
        "find_and_handle_unpaired_files(image_folder_allFlooded, label_folder_allFlooded)\n",
        "\n",
        "# Split dataset\n",
        "split_dataset(image_folder_allFlooded, label_folder_allFlooded, output_dirs_allFlooded)\n"
      ],
      "metadata": {
        "colab": {
          "base_uri": "https://localhost:8080/",
          "height": 436
        },
        "id": "fo0y7ZbdrN4s",
        "outputId": "c757b66a-e07c-4a3a-d8bc-40525a256ff7"
      },
      "execution_count": null,
      "outputs": [
        {
          "output_type": "stream",
          "name": "stdout",
          "text": [
            "\n",
            "Processing allFloodedData dataset\n",
            "Folder not found: /content/drive/MyDrive/unityData/allFloodedData/finaleval/images\n",
            "Number of images: 0\n",
            "Folder not found: /content/drive/MyDrive/unityData/allFloodedData/finaleval/labels\n",
            "Number of labels: 0\n"
          ]
        },
        {
          "output_type": "error",
          "ename": "FileNotFoundError",
          "evalue": "[Errno 2] No such file or directory: '/content/drive/MyDrive/unityData/allFloodedData/finaleval/images'",
          "traceback": [
            "\u001b[0;31m---------------------------------------------------------------------------\u001b[0m",
            "\u001b[0;31mFileNotFoundError\u001b[0m                         Traceback (most recent call last)",
            "\u001b[0;32m<ipython-input-8-ded61a5d5df2>\u001b[0m in \u001b[0;36m<cell line: 18>\u001b[0;34m()\u001b[0m\n\u001b[1;32m     16\u001b[0m \u001b[0;34m\u001b[0m\u001b[0m\n\u001b[1;32m     17\u001b[0m \u001b[0;31m# Handle unpaired files\u001b[0m\u001b[0;34m\u001b[0m\u001b[0;34m\u001b[0m\u001b[0m\n\u001b[0;32m---> 18\u001b[0;31m \u001b[0mfind_and_handle_unpaired_files\u001b[0m\u001b[0;34m(\u001b[0m\u001b[0mimage_folder_allFlooded\u001b[0m\u001b[0;34m,\u001b[0m \u001b[0mlabel_folder_allFlooded\u001b[0m\u001b[0;34m)\u001b[0m\u001b[0;34m\u001b[0m\u001b[0;34m\u001b[0m\u001b[0m\n\u001b[0m\u001b[1;32m     19\u001b[0m \u001b[0;34m\u001b[0m\u001b[0m\n\u001b[1;32m     20\u001b[0m \u001b[0;31m# Split dataset\u001b[0m\u001b[0;34m\u001b[0m\u001b[0;34m\u001b[0m\u001b[0m\n",
            "\u001b[0;32m<ipython-input-2-40497424eb1d>\u001b[0m in \u001b[0;36mfind_and_handle_unpaired_files\u001b[0;34m(image_folder, label_folder)\u001b[0m\n\u001b[1;32m      4\u001b[0m     \u001b[0;34m\"\"\"Remove unpaired images or labels.\"\"\"\u001b[0m\u001b[0;34m\u001b[0m\u001b[0;34m\u001b[0m\u001b[0m\n\u001b[1;32m      5\u001b[0m     \u001b[0;31m# Get the list of image and label files without extensions\u001b[0m\u001b[0;34m\u001b[0m\u001b[0;34m\u001b[0m\u001b[0m\n\u001b[0;32m----> 6\u001b[0;31m     \u001b[0mimage_files\u001b[0m \u001b[0;34m=\u001b[0m \u001b[0;34m{\u001b[0m\u001b[0mos\u001b[0m\u001b[0;34m.\u001b[0m\u001b[0mpath\u001b[0m\u001b[0;34m.\u001b[0m\u001b[0msplitext\u001b[0m\u001b[0;34m(\u001b[0m\u001b[0mimg\u001b[0m\u001b[0;34m)\u001b[0m\u001b[0;34m[\u001b[0m\u001b[0;36m0\u001b[0m\u001b[0;34m]\u001b[0m \u001b[0;32mfor\u001b[0m \u001b[0mimg\u001b[0m \u001b[0;32min\u001b[0m \u001b[0mos\u001b[0m\u001b[0;34m.\u001b[0m\u001b[0mlistdir\u001b[0m\u001b[0;34m(\u001b[0m\u001b[0mimage_folder\u001b[0m\u001b[0;34m)\u001b[0m\u001b[0;34m}\u001b[0m\u001b[0;34m\u001b[0m\u001b[0;34m\u001b[0m\u001b[0m\n\u001b[0m\u001b[1;32m      7\u001b[0m     \u001b[0mlabel_files\u001b[0m \u001b[0;34m=\u001b[0m \u001b[0;34m{\u001b[0m\u001b[0mos\u001b[0m\u001b[0;34m.\u001b[0m\u001b[0mpath\u001b[0m\u001b[0;34m.\u001b[0m\u001b[0msplitext\u001b[0m\u001b[0;34m(\u001b[0m\u001b[0mlbl\u001b[0m\u001b[0;34m)\u001b[0m\u001b[0;34m[\u001b[0m\u001b[0;36m0\u001b[0m\u001b[0;34m]\u001b[0m \u001b[0;32mfor\u001b[0m \u001b[0mlbl\u001b[0m \u001b[0;32min\u001b[0m \u001b[0mos\u001b[0m\u001b[0;34m.\u001b[0m\u001b[0mlistdir\u001b[0m\u001b[0;34m(\u001b[0m\u001b[0mlabel_folder\u001b[0m\u001b[0;34m)\u001b[0m\u001b[0;34m}\u001b[0m\u001b[0;34m\u001b[0m\u001b[0;34m\u001b[0m\u001b[0m\n\u001b[1;32m      8\u001b[0m \u001b[0;34m\u001b[0m\u001b[0m\n",
            "\u001b[0;31mFileNotFoundError\u001b[0m: [Errno 2] No such file or directory: '/content/drive/MyDrive/unityData/allFloodedData/finaleval/images'"
          ]
        }
      ]
    },
    {
      "cell_type": "markdown",
      "source": [
        "Preprocessing Flooded Data"
      ],
      "metadata": {
        "id": "LoLlBX20rik8"
      }
    },
    {
      "cell_type": "code",
      "source": [
        "print(\"\\nProcessing nonFlooded dataset\")\n",
        "\n",
        "base_folder = \"/content/drive/MyDrive/unityData/nonflooded\"\n",
        "image_folder = os.path.join(base_folder, \"images\")\n",
        "label_folder = os.path.join(base_folder, \"labels\")\n",
        "\n",
        "output_dirs = {\n",
        "    \"train\": {\"img\": os.path.join(base_folder, \"train/images\"), \"labels\": os.path.join(base_folder, \"train/labels\")},\n",
        "    \"valid\": {\"img\": os.path.join(base_folder, \"valid/images\"), \"labels\": os.path.join(base_folder, \"valid/labels\")},\n",
        "    \"test\": {\"img\": os.path.join(base_folder, \"test/images\"), \"labels\": os.path.join(base_folder, \"test/labels\")},\n",
        "}\n",
        "\n",
        "# Count files\n",
        "print(f\"Number of images: {count_files_in_folder(image_folder)}\")\n",
        "print(f\"Number of labels: {count_files_in_folder(label_folder)}\")\n",
        "\n",
        "# Handle unpaired files\n",
        "find_and_handle_unpaired_files(image_folder, label_folder)\n",
        "\n",
        "# Split dataset\n",
        "split_dataset(image_folder, label_folder, output_dirs)"
      ],
      "metadata": {
        "colab": {
          "base_uri": "https://localhost:8080/",
          "height": 436
        },
        "id": "r88-Orl-rl6A",
        "outputId": "08c7bd1a-7ae3-43f5-e689-715eef27bbcb"
      },
      "execution_count": null,
      "outputs": [
        {
          "output_type": "stream",
          "name": "stdout",
          "text": [
            "\n",
            "Processing nonFlooded dataset\n",
            "Folder not found: /content/drive/MyDrive/unityData/nonflooded/images\n",
            "Number of images: 0\n",
            "Folder not found: /content/drive/MyDrive/unityData/nonflooded/labels\n",
            "Number of labels: 0\n"
          ]
        },
        {
          "output_type": "error",
          "ename": "FileNotFoundError",
          "evalue": "[Errno 2] No such file or directory: '/content/drive/MyDrive/unityData/nonflooded/images'",
          "traceback": [
            "\u001b[0;31m---------------------------------------------------------------------------\u001b[0m",
            "\u001b[0;31mFileNotFoundError\u001b[0m                         Traceback (most recent call last)",
            "\u001b[0;32m<ipython-input-9-74fa32a94a35>\u001b[0m in \u001b[0;36m<cell line: 18>\u001b[0;34m()\u001b[0m\n\u001b[1;32m     16\u001b[0m \u001b[0;34m\u001b[0m\u001b[0m\n\u001b[1;32m     17\u001b[0m \u001b[0;31m# Handle unpaired files\u001b[0m\u001b[0;34m\u001b[0m\u001b[0;34m\u001b[0m\u001b[0m\n\u001b[0;32m---> 18\u001b[0;31m \u001b[0mfind_and_handle_unpaired_files\u001b[0m\u001b[0;34m(\u001b[0m\u001b[0mimage_folder\u001b[0m\u001b[0;34m,\u001b[0m \u001b[0mlabel_folder\u001b[0m\u001b[0;34m)\u001b[0m\u001b[0;34m\u001b[0m\u001b[0;34m\u001b[0m\u001b[0m\n\u001b[0m\u001b[1;32m     19\u001b[0m \u001b[0;34m\u001b[0m\u001b[0m\n\u001b[1;32m     20\u001b[0m \u001b[0;31m# Split dataset\u001b[0m\u001b[0;34m\u001b[0m\u001b[0;34m\u001b[0m\u001b[0m\n",
            "\u001b[0;32m<ipython-input-2-40497424eb1d>\u001b[0m in \u001b[0;36mfind_and_handle_unpaired_files\u001b[0;34m(image_folder, label_folder)\u001b[0m\n\u001b[1;32m      4\u001b[0m     \u001b[0;34m\"\"\"Remove unpaired images or labels.\"\"\"\u001b[0m\u001b[0;34m\u001b[0m\u001b[0;34m\u001b[0m\u001b[0m\n\u001b[1;32m      5\u001b[0m     \u001b[0;31m# Get the list of image and label files without extensions\u001b[0m\u001b[0;34m\u001b[0m\u001b[0;34m\u001b[0m\u001b[0m\n\u001b[0;32m----> 6\u001b[0;31m     \u001b[0mimage_files\u001b[0m \u001b[0;34m=\u001b[0m \u001b[0;34m{\u001b[0m\u001b[0mos\u001b[0m\u001b[0;34m.\u001b[0m\u001b[0mpath\u001b[0m\u001b[0;34m.\u001b[0m\u001b[0msplitext\u001b[0m\u001b[0;34m(\u001b[0m\u001b[0mimg\u001b[0m\u001b[0;34m)\u001b[0m\u001b[0;34m[\u001b[0m\u001b[0;36m0\u001b[0m\u001b[0;34m]\u001b[0m \u001b[0;32mfor\u001b[0m \u001b[0mimg\u001b[0m \u001b[0;32min\u001b[0m \u001b[0mos\u001b[0m\u001b[0;34m.\u001b[0m\u001b[0mlistdir\u001b[0m\u001b[0;34m(\u001b[0m\u001b[0mimage_folder\u001b[0m\u001b[0;34m)\u001b[0m\u001b[0;34m}\u001b[0m\u001b[0;34m\u001b[0m\u001b[0;34m\u001b[0m\u001b[0m\n\u001b[0m\u001b[1;32m      7\u001b[0m     \u001b[0mlabel_files\u001b[0m \u001b[0;34m=\u001b[0m \u001b[0;34m{\u001b[0m\u001b[0mos\u001b[0m\u001b[0;34m.\u001b[0m\u001b[0mpath\u001b[0m\u001b[0;34m.\u001b[0m\u001b[0msplitext\u001b[0m\u001b[0;34m(\u001b[0m\u001b[0mlbl\u001b[0m\u001b[0;34m)\u001b[0m\u001b[0;34m[\u001b[0m\u001b[0;36m0\u001b[0m\u001b[0;34m]\u001b[0m \u001b[0;32mfor\u001b[0m \u001b[0mlbl\u001b[0m \u001b[0;32min\u001b[0m \u001b[0mos\u001b[0m\u001b[0;34m.\u001b[0m\u001b[0mlistdir\u001b[0m\u001b[0;34m(\u001b[0m\u001b[0mlabel_folder\u001b[0m\u001b[0;34m)\u001b[0m\u001b[0;34m}\u001b[0m\u001b[0;34m\u001b[0m\u001b[0;34m\u001b[0m\u001b[0m\n\u001b[1;32m      8\u001b[0m \u001b[0;34m\u001b[0m\u001b[0m\n",
            "\u001b[0;31mFileNotFoundError\u001b[0m: [Errno 2] No such file or directory: '/content/drive/MyDrive/unityData/nonflooded/images'"
          ]
        }
      ]
    }
  ]
}